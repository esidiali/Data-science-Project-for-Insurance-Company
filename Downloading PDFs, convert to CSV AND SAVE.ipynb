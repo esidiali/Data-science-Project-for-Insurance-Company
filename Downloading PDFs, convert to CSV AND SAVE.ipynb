{
 "cells": [
  {
   "cell_type": "markdown",
   "metadata": {},
   "source": [
    "# HOW TO DOWNLOAD FILES AUTOMATICALLY"
   ]
  },
  {
   "cell_type": "markdown",
   "metadata": {},
   "source": [
    "#### We can  download files using \"Requests\" module. The \"get\" method of the requests module is used to download the file contents in binary format. We can then use the \"open\" method to open a file on our system."
   ]
  },
  {
   "cell_type": "code",
   "execution_count": 19,
   "metadata": {},
   "outputs": [],
   "source": [
    "import requests\n",
    "import pandas as pd\n",
    "import numpy as np"
   ]
  },
  {
   "cell_type": "code",
   "execution_count": 17,
   "metadata": {},
   "outputs": [],
   "source": [
    "url=\"http://www.risquesprofessionnels.ameli.fr/fileadmin/fiches_statistiques/NAFAPE_2016_C_000_2920Z_SY.pdf\"\n",
    "r = requests.get(url, stream=True)\n",
    "with open('C:/Users/EL MAHDI/Desktop/blabla/18-19/F3/projet ISA/NAP_TEST3.pdf', 'wb') as f:\n",
    "    f.write(r.content)\n"
   ]
  },
  {
   "cell_type": "markdown",
   "metadata": {},
   "source": [
    "#### In the above script, the open method is used once again to write binary data to local file. If we execute the above script and go to the specified path directory, we see our newly downloaded PDF file named \"NAP_TEST3.pdf\""
   ]
  },
  {
   "cell_type": "markdown",
   "metadata": {},
   "source": [
    "# Download and save multiple pdf files, according to a list of urls, using a loop"
   ]
  },
  {
   "cell_type": "markdown",
   "metadata": {},
   "source": [
    "## URL's table"
   ]
  },
  {
   "cell_type": "code",
   "execution_count": 3,
   "metadata": {},
   "outputs": [],
   "source": [
    "urls_table = pd.read_excel(\"Liste-des-codes-APE-NAF-excel-2017.xlsx\")"
   ]
  },
  {
   "cell_type": "code",
   "execution_count": 4,
   "metadata": {},
   "outputs": [
    {
     "data": {
      "text/html": [
       "<div>\n",
       "<style scoped>\n",
       "    .dataframe tbody tr th:only-of-type {\n",
       "        vertical-align: middle;\n",
       "    }\n",
       "\n",
       "    .dataframe tbody tr th {\n",
       "        vertical-align: top;\n",
       "    }\n",
       "\n",
       "    .dataframe thead th {\n",
       "        text-align: right;\n",
       "    }\n",
       "</style>\n",
       "<table border=\"1\" class=\"dataframe\">\n",
       "  <thead>\n",
       "    <tr style=\"text-align: right;\">\n",
       "      <th></th>\n",
       "      <th>Code APE</th>\n",
       "      <th>partie 2 url</th>\n",
       "      <th>nbcar</th>\n",
       "      <th>partie 4 url</th>\n",
       "      <th>Intitulés de la NAF</th>\n",
       "      <th>url</th>\n",
       "      <th>partie 1 url</th>\n",
       "      <th>partie 3</th>\n",
       "      <th>partie 5</th>\n",
       "    </tr>\n",
       "  </thead>\n",
       "  <tbody>\n",
       "    <tr>\n",
       "      <th>0</th>\n",
       "      <td>SECTION A</td>\n",
       "      <td>A</td>\n",
       "      <td>9</td>\n",
       "      <td>NaN</td>\n",
       "      <td>AGRICULTURE, SYLVICULTURE ET PÊCHE</td>\n",
       "      <td>NaN</td>\n",
       "      <td>NaN</td>\n",
       "      <td>NaN</td>\n",
       "      <td>NaN</td>\n",
       "    </tr>\n",
       "    <tr>\n",
       "      <th>1</th>\n",
       "      <td>01.11Z</td>\n",
       "      <td>A</td>\n",
       "      <td>6</td>\n",
       "      <td>0111Z</td>\n",
       "      <td>Culture de céréales (à l'exception du riz), de...</td>\n",
       "      <td>http://www.risquesprofessionnels.ameli.fr/file...</td>\n",
       "      <td>http://www.risquesprofessionnels.ameli.fr/file...</td>\n",
       "      <td>_000_</td>\n",
       "      <td>_SY.pdf</td>\n",
       "    </tr>\n",
       "    <tr>\n",
       "      <th>2</th>\n",
       "      <td>01.12Z</td>\n",
       "      <td>A</td>\n",
       "      <td>6</td>\n",
       "      <td>0112Z</td>\n",
       "      <td>Culture du riz</td>\n",
       "      <td>http://www.risquesprofessionnels.ameli.fr/file...</td>\n",
       "      <td>http://www.risquesprofessionnels.ameli.fr/file...</td>\n",
       "      <td>_000_</td>\n",
       "      <td>_SY.pdf</td>\n",
       "    </tr>\n",
       "    <tr>\n",
       "      <th>3</th>\n",
       "      <td>01.13Z</td>\n",
       "      <td>A</td>\n",
       "      <td>6</td>\n",
       "      <td>0113Z</td>\n",
       "      <td>Culture de légumes, de melons, de racines et d...</td>\n",
       "      <td>http://www.risquesprofessionnels.ameli.fr/file...</td>\n",
       "      <td>http://www.risquesprofessionnels.ameli.fr/file...</td>\n",
       "      <td>_000_</td>\n",
       "      <td>_SY.pdf</td>\n",
       "    </tr>\n",
       "    <tr>\n",
       "      <th>4</th>\n",
       "      <td>01.14Z</td>\n",
       "      <td>A</td>\n",
       "      <td>6</td>\n",
       "      <td>0114Z</td>\n",
       "      <td>Culture de la canne à sucre</td>\n",
       "      <td>http://www.risquesprofessionnels.ameli.fr/file...</td>\n",
       "      <td>http://www.risquesprofessionnels.ameli.fr/file...</td>\n",
       "      <td>_000_</td>\n",
       "      <td>_SY.pdf</td>\n",
       "    </tr>\n",
       "  </tbody>\n",
       "</table>\n",
       "</div>"
      ],
      "text/plain": [
       "    Code APE partie 2 url  nbcar partie 4 url  \\\n",
       "0  SECTION A            A      9          NaN   \n",
       "1     01.11Z            A      6        0111Z   \n",
       "2     01.12Z            A      6        0112Z   \n",
       "3     01.13Z            A      6        0113Z   \n",
       "4     01.14Z            A      6        0114Z   \n",
       "\n",
       "                                 Intitulés de la NAF  \\\n",
       "0                 AGRICULTURE, SYLVICULTURE ET PÊCHE   \n",
       "1  Culture de céréales (à l'exception du riz), de...   \n",
       "2                                     Culture du riz   \n",
       "3  Culture de légumes, de melons, de racines et d...   \n",
       "4                        Culture de la canne à sucre   \n",
       "\n",
       "                                                 url  \\\n",
       "0                                                NaN   \n",
       "1  http://www.risquesprofessionnels.ameli.fr/file...   \n",
       "2  http://www.risquesprofessionnels.ameli.fr/file...   \n",
       "3  http://www.risquesprofessionnels.ameli.fr/file...   \n",
       "4  http://www.risquesprofessionnels.ameli.fr/file...   \n",
       "\n",
       "                                        partie 1 url partie 3 partie 5  \n",
       "0                                                NaN      NaN      NaN  \n",
       "1  http://www.risquesprofessionnels.ameli.fr/file...    _000_  _SY.pdf  \n",
       "2  http://www.risquesprofessionnels.ameli.fr/file...    _000_  _SY.pdf  \n",
       "3  http://www.risquesprofessionnels.ameli.fr/file...    _000_  _SY.pdf  \n",
       "4  http://www.risquesprofessionnels.ameli.fr/file...    _000_  _SY.pdf  "
      ]
     },
     "execution_count": 4,
     "metadata": {},
     "output_type": "execute_result"
    }
   ],
   "source": [
    "urls_table.head()"
   ]
  },
  {
   "cell_type": "markdown",
   "metadata": {},
   "source": [
    "### Any missing values"
   ]
  },
  {
   "cell_type": "code",
   "execution_count": 5,
   "metadata": {},
   "outputs": [
    {
     "data": {
      "text/html": [
       "<div>\n",
       "<style scoped>\n",
       "    .dataframe tbody tr th:only-of-type {\n",
       "        vertical-align: middle;\n",
       "    }\n",
       "\n",
       "    .dataframe tbody tr th {\n",
       "        vertical-align: top;\n",
       "    }\n",
       "\n",
       "    .dataframe thead th {\n",
       "        text-align: right;\n",
       "    }\n",
       "</style>\n",
       "<table border=\"1\" class=\"dataframe\">\n",
       "  <thead>\n",
       "    <tr style=\"text-align: right;\">\n",
       "      <th></th>\n",
       "      <th>Code APE</th>\n",
       "      <th>partie 2 url</th>\n",
       "      <th>nbcar</th>\n",
       "      <th>partie 4 url</th>\n",
       "      <th>Intitulés de la NAF</th>\n",
       "      <th>url</th>\n",
       "      <th>partie 1 url</th>\n",
       "      <th>partie 3</th>\n",
       "      <th>partie 5</th>\n",
       "    </tr>\n",
       "  </thead>\n",
       "  <tbody>\n",
       "    <tr>\n",
       "      <th>0</th>\n",
       "      <td>SECTION A</td>\n",
       "      <td>A</td>\n",
       "      <td>9</td>\n",
       "      <td>NaN</td>\n",
       "      <td>AGRICULTURE, SYLVICULTURE ET PÊCHE</td>\n",
       "      <td>NaN</td>\n",
       "      <td>NaN</td>\n",
       "      <td>NaN</td>\n",
       "      <td>NaN</td>\n",
       "    </tr>\n",
       "    <tr>\n",
       "      <th>40</th>\n",
       "      <td>SECTION B</td>\n",
       "      <td>B</td>\n",
       "      <td>9</td>\n",
       "      <td>NaN</td>\n",
       "      <td>INDUSTRIES EXTRACTIVES</td>\n",
       "      <td>NaN</td>\n",
       "      <td>http://www.risquesprofessionnels.ameli.fr/file...</td>\n",
       "      <td>_000_</td>\n",
       "      <td>_SY.pdf</td>\n",
       "    </tr>\n",
       "    <tr>\n",
       "      <th>56</th>\n",
       "      <td>SECTION C</td>\n",
       "      <td>C</td>\n",
       "      <td>9</td>\n",
       "      <td>NaN</td>\n",
       "      <td>INDUSTRIE MANUFACTURIÈRE</td>\n",
       "      <td>NaN</td>\n",
       "      <td>http://www.risquesprofessionnels.ameli.fr/file...</td>\n",
       "      <td>_000_</td>\n",
       "      <td>_SY.pdf</td>\n",
       "    </tr>\n",
       "    <tr>\n",
       "      <th>316</th>\n",
       "      <td>SECTION D</td>\n",
       "      <td>D</td>\n",
       "      <td>9</td>\n",
       "      <td>NaN</td>\n",
       "      <td>PRODUCTION ET DISTRIBUTION D'ÉLECTRICITÉ, DE G...</td>\n",
       "      <td>NaN</td>\n",
       "      <td>http://www.risquesprofessionnels.ameli.fr/file...</td>\n",
       "      <td>_000_</td>\n",
       "      <td>_SY.pdf</td>\n",
       "    </tr>\n",
       "    <tr>\n",
       "      <th>325</th>\n",
       "      <td>SECTION E</td>\n",
       "      <td>E</td>\n",
       "      <td>9</td>\n",
       "      <td>NaN</td>\n",
       "      <td>PRODUCTION ET DISTRIBUTION D'EAU ; ASSAINISSEM...</td>\n",
       "      <td>NaN</td>\n",
       "      <td>http://www.risquesprofessionnels.ameli.fr/file...</td>\n",
       "      <td>_000_</td>\n",
       "      <td>_SY.pdf</td>\n",
       "    </tr>\n",
       "  </tbody>\n",
       "</table>\n",
       "</div>"
      ],
      "text/plain": [
       "      Code APE partie 2 url  nbcar partie 4 url  \\\n",
       "0    SECTION A            A      9          NaN   \n",
       "40   SECTION B            B      9          NaN   \n",
       "56   SECTION C            C      9          NaN   \n",
       "316  SECTION D            D      9          NaN   \n",
       "325  SECTION E            E      9          NaN   \n",
       "\n",
       "                                   Intitulés de la NAF  url  \\\n",
       "0                   AGRICULTURE, SYLVICULTURE ET PÊCHE  NaN   \n",
       "40                              INDUSTRIES EXTRACTIVES  NaN   \n",
       "56                            INDUSTRIE MANUFACTURIÈRE  NaN   \n",
       "316  PRODUCTION ET DISTRIBUTION D'ÉLECTRICITÉ, DE G...  NaN   \n",
       "325  PRODUCTION ET DISTRIBUTION D'EAU ; ASSAINISSEM...  NaN   \n",
       "\n",
       "                                          partie 1 url partie 3 partie 5  \n",
       "0                                                  NaN      NaN      NaN  \n",
       "40   http://www.risquesprofessionnels.ameli.fr/file...    _000_  _SY.pdf  \n",
       "56   http://www.risquesprofessionnels.ameli.fr/file...    _000_  _SY.pdf  \n",
       "316  http://www.risquesprofessionnels.ameli.fr/file...    _000_  _SY.pdf  \n",
       "325  http://www.risquesprofessionnels.ameli.fr/file...    _000_  _SY.pdf  "
      ]
     },
     "execution_count": 5,
     "metadata": {},
     "output_type": "execute_result"
    }
   ],
   "source": [
    "urls_table[urls_table.isnull().any(axis=1)].head()"
   ]
  },
  {
   "cell_type": "markdown",
   "metadata": {},
   "source": [
    "### Drop any row containing a NaN value"
   ]
  },
  {
   "cell_type": "code",
   "execution_count": 6,
   "metadata": {},
   "outputs": [],
   "source": [
    "urls_table=urls_table.dropna(axis=0, how='any')"
   ]
  },
  {
   "cell_type": "code",
   "execution_count": 7,
   "metadata": {},
   "outputs": [
    {
     "data": {
      "text/plain": [
       "732"
      ]
     },
     "execution_count": 7,
     "metadata": {},
     "output_type": "execute_result"
    }
   ],
   "source": [
    "urls_table['url'].count()"
   ]
  },
  {
   "cell_type": "code",
   "execution_count": 8,
   "metadata": {},
   "outputs": [
    {
     "data": {
      "text/plain": [
       "Index(['Code APE', 'partie 2 url', 'nbcar', 'partie 4 url',\n",
       "       ' Intitulés de la NAF', 'url', 'partie 1 url', 'partie 3', 'partie 5'],\n",
       "      dtype='object')"
      ]
     },
     "execution_count": 8,
     "metadata": {},
     "output_type": "execute_result"
    }
   ],
   "source": [
    "urls_table.columns"
   ]
  },
  {
   "cell_type": "code",
   "execution_count": 9,
   "metadata": {},
   "outputs": [
    {
     "data": {
      "text/html": [
       "<div>\n",
       "<style scoped>\n",
       "    .dataframe tbody tr th:only-of-type {\n",
       "        vertical-align: middle;\n",
       "    }\n",
       "\n",
       "    .dataframe tbody tr th {\n",
       "        vertical-align: top;\n",
       "    }\n",
       "\n",
       "    .dataframe thead th {\n",
       "        text-align: right;\n",
       "    }\n",
       "</style>\n",
       "<table border=\"1\" class=\"dataframe\">\n",
       "  <thead>\n",
       "    <tr style=\"text-align: right;\">\n",
       "      <th></th>\n",
       "      <th>Code APE</th>\n",
       "      <th>partie 2 url</th>\n",
       "      <th>nbcar</th>\n",
       "      <th>partie 4 url</th>\n",
       "      <th>url</th>\n",
       "      <th>partie 3</th>\n",
       "      <th>partie 5</th>\n",
       "    </tr>\n",
       "  </thead>\n",
       "  <tbody>\n",
       "    <tr>\n",
       "      <th>1</th>\n",
       "      <td>01.11Z</td>\n",
       "      <td>A</td>\n",
       "      <td>6</td>\n",
       "      <td>0111Z</td>\n",
       "      <td>http://www.risquesprofessionnels.ameli.fr/fileadmin/fiches_statistiques/NAFAPE_2016_A_000_0111Z_SY.pdf</td>\n",
       "      <td>_000_</td>\n",
       "      <td>_SY.pdf</td>\n",
       "    </tr>\n",
       "    <tr>\n",
       "      <th>2</th>\n",
       "      <td>01.12Z</td>\n",
       "      <td>A</td>\n",
       "      <td>6</td>\n",
       "      <td>0112Z</td>\n",
       "      <td>http://www.risquesprofessionnels.ameli.fr/fileadmin/fiches_statistiques/NAFAPE_2016_A_000_0112Z_SY.pdf</td>\n",
       "      <td>_000_</td>\n",
       "      <td>_SY.pdf</td>\n",
       "    </tr>\n",
       "    <tr>\n",
       "      <th>3</th>\n",
       "      <td>01.13Z</td>\n",
       "      <td>A</td>\n",
       "      <td>6</td>\n",
       "      <td>0113Z</td>\n",
       "      <td>http://www.risquesprofessionnels.ameli.fr/fileadmin/fiches_statistiques/NAFAPE_2016_A_000_0113Z_SY.pdf</td>\n",
       "      <td>_000_</td>\n",
       "      <td>_SY.pdf</td>\n",
       "    </tr>\n",
       "    <tr>\n",
       "      <th>4</th>\n",
       "      <td>01.14Z</td>\n",
       "      <td>A</td>\n",
       "      <td>6</td>\n",
       "      <td>0114Z</td>\n",
       "      <td>http://www.risquesprofessionnels.ameli.fr/fileadmin/fiches_statistiques/NAFAPE_2016_A_000_0114Z_SY.pdf</td>\n",
       "      <td>_000_</td>\n",
       "      <td>_SY.pdf</td>\n",
       "    </tr>\n",
       "    <tr>\n",
       "      <th>5</th>\n",
       "      <td>01.15Z</td>\n",
       "      <td>A</td>\n",
       "      <td>6</td>\n",
       "      <td>0115Z</td>\n",
       "      <td>http://www.risquesprofessionnels.ameli.fr/fileadmin/fiches_statistiques/NAFAPE_2016_A_000_0115Z_SY.pdf</td>\n",
       "      <td>_000_</td>\n",
       "      <td>_SY.pdf</td>\n",
       "    </tr>\n",
       "  </tbody>\n",
       "</table>\n",
       "</div>"
      ],
      "text/plain": [
       "  Code APE partie 2 url  nbcar partie 4 url  \\\n",
       "1  01.11Z   A            6      0111Z         \n",
       "2  01.12Z   A            6      0112Z         \n",
       "3  01.13Z   A            6      0113Z         \n",
       "4  01.14Z   A            6      0114Z         \n",
       "5  01.15Z   A            6      0115Z         \n",
       "\n",
       "                                                                                                      url  \\\n",
       "1  http://www.risquesprofessionnels.ameli.fr/fileadmin/fiches_statistiques/NAFAPE_2016_A_000_0111Z_SY.pdf   \n",
       "2  http://www.risquesprofessionnels.ameli.fr/fileadmin/fiches_statistiques/NAFAPE_2016_A_000_0112Z_SY.pdf   \n",
       "3  http://www.risquesprofessionnels.ameli.fr/fileadmin/fiches_statistiques/NAFAPE_2016_A_000_0113Z_SY.pdf   \n",
       "4  http://www.risquesprofessionnels.ameli.fr/fileadmin/fiches_statistiques/NAFAPE_2016_A_000_0114Z_SY.pdf   \n",
       "5  http://www.risquesprofessionnels.ameli.fr/fileadmin/fiches_statistiques/NAFAPE_2016_A_000_0115Z_SY.pdf   \n",
       "\n",
       "  partie 3 partie 5  \n",
       "1  _000_    _SY.pdf  \n",
       "2  _000_    _SY.pdf  \n",
       "3  _000_    _SY.pdf  \n",
       "4  _000_    _SY.pdf  \n",
       "5  _000_    _SY.pdf  "
      ]
     },
     "execution_count": 9,
     "metadata": {},
     "output_type": "execute_result"
    }
   ],
   "source": [
    "pd.set_option('display.max_colwidth', -1) ### display all the column s content\n",
    "\n",
    "## drop some columns useless columns\n",
    "urls_table = urls_table.drop([' Intitulés de la NAF', 'partie 1 url'], axis=1)\n",
    "urls_table.head()"
   ]
  },
  {
   "cell_type": "markdown",
   "metadata": {},
   "source": [
    "### test on the 4th urls"
   ]
  },
  {
   "cell_type": "code",
   "execution_count": 10,
   "metadata": {},
   "outputs": [
    {
     "data": {
      "text/plain": [
       "1    http://www.risquesprofessionnels.ameli.fr/fileadmin/fiches_statistiques/NAFAPE_2016_A_000_0111Z_SY.pdf\n",
       "2    http://www.risquesprofessionnels.ameli.fr/fileadmin/fiches_statistiques/NAFAPE_2016_A_000_0112Z_SY.pdf\n",
       "3    http://www.risquesprofessionnels.ameli.fr/fileadmin/fiches_statistiques/NAFAPE_2016_A_000_0113Z_SY.pdf\n",
       "4    http://www.risquesprofessionnels.ameli.fr/fileadmin/fiches_statistiques/NAFAPE_2016_A_000_0114Z_SY.pdf\n",
       "Name: url, dtype: object"
      ]
     },
     "execution_count": 10,
     "metadata": {},
     "output_type": "execute_result"
    }
   ],
   "source": [
    "urls_table['url'][0:4]"
   ]
  },
  {
   "cell_type": "markdown",
   "metadata": {},
   "source": [
    "## create a loop to download and save the files "
   ]
  },
  {
   "cell_type": "markdown",
   "metadata": {},
   "source": [
    "### 1- split the url to a list of two elements"
   ]
  },
  {
   "cell_type": "code",
   "execution_count": 11,
   "metadata": {},
   "outputs": [
    {
     "data": {
      "text/plain": [
       "['http://www.risquesprofessionnels.ameli.fr/fileadmin/fiches_statistiques',\n",
       " 'NAFAPE_2016_A_000_0111Z_SY.pdf']"
      ]
     },
     "execution_count": 11,
     "metadata": {},
     "output_type": "execute_result"
    }
   ],
   "source": [
    "url_test = urls_table['url'][0:4][1]\n",
    "url_test.rsplit('/', 1)   ## 1=do one split"
   ]
  },
  {
   "cell_type": "markdown",
   "metadata": {},
   "source": [
    "### 2- now we extract the pdf's name from the splitted list"
   ]
  },
  {
   "cell_type": "code",
   "execution_count": 12,
   "metadata": {},
   "outputs": [
    {
     "name": "stdout",
     "output_type": "stream",
     "text": [
      "NAFAPE_2016_A_000_0111Z_SY.pdf\n",
      "NAFAPE_2016_A_000_0112Z_SY.pdf\n",
      "NAFAPE_2016_A_000_0113Z_SY.pdf\n",
      "NAFAPE_2016_A_000_0114Z_SY.pdf\n",
      "NAFAPE_2016_A_000_0115Z_SY.pdf\n",
      "NAFAPE_2016_A_000_0116Z_SY.pdf\n",
      "NAFAPE_2016_A_000_0119Z_SY.pdf\n",
      "NAFAPE_2016_A_000_0121Z_SY.pdf\n",
      "NAFAPE_2016_A_000_0122Z_SY.pdf\n",
      "NAFAPE_2016_A_000_0123Z_SY.pdf\n"
     ]
    }
   ],
   "source": [
    "url2 = urls_table['url'][0:10] ## test on the first 10 urls\n",
    "for url5 in url2:\n",
    "    if url5.find('/'):\n",
    "        print(url5.rsplit('/', 1)[1])"
   ]
  },
  {
   "cell_type": "markdown",
   "metadata": {},
   "source": [
    "### 3- at this  point we can automatically download and save pdfs with the correct name"
   ]
  },
  {
   "cell_type": "code",
   "execution_count": 13,
   "metadata": {},
   "outputs": [],
   "source": [
    "#from multiprocessing.pool import ThreadPool\n",
    "from time import time as timer"
   ]
  },
  {
   "cell_type": "markdown",
   "metadata": {},
   "source": [
    "#### without using a multiprocessing ibrary"
   ]
  },
  {
   "cell_type": "code",
   "execution_count": 14,
   "metadata": {},
   "outputs": [],
   "source": [
    "#def down_save(entry):\n",
    "    #for url in entry:\n",
    "    ## SEND REQUEST OF DOWNLOADING\n",
    "        #r = requests.get(url, stream=True)\n",
    "    ## SAVE AND WRITE THE CONTENT IN TNE CORRECT DIRECTORY WITH CORRECT FILE NAME\n",
    "        #with open( 'NAP_FILES/'+ url.rsplit('/', 1)[1] , 'wb') as f:    \n",
    "          #  f.write(r.content)"
   ]
  },
  {
   "cell_type": "code",
   "execution_count": 15,
   "metadata": {},
   "outputs": [],
   "source": [
    "def down_save2(link):\n",
    "    r = requests.get(link, stream=True)\n",
    "    ## SAVE AND WRITE THE CONTENT IN TNE CORRECT DIRECTORY WITH CORRECT FILE NAME\n",
    "    with open( 'NAP_FILES/new'+ link.rsplit('/', 1)[1] , 'wb') as f:\n",
    "        f.write(r.content)"
   ]
  },
  {
   "cell_type": "code",
   "execution_count": 16,
   "metadata": {},
   "outputs": [
    {
     "name": "stdout",
     "output_type": "stream",
     "text": [
      "Elapsed Time: 146.16459393501282\n"
     ]
    }
   ],
   "source": [
    "url732=urls_table['url'] ### all pdf files\n",
    "start = timer()\n",
    "for url in url732:\n",
    "    down_save2(url)\n",
    "    \n",
    "print(f\"Elapsed Time: {timer() - start}\")"
   ]
  },
  {
   "cell_type": "code",
   "execution_count": null,
   "metadata": {},
   "outputs": [],
   "source": []
  },
  {
   "cell_type": "markdown",
   "metadata": {},
   "source": [
    "# CONVERT PDF TO CSV "
   ]
  },
  {
   "cell_type": "code",
   "execution_count": 2,
   "metadata": {},
   "outputs": [],
   "source": [
    "import glob"
   ]
  },
  {
   "cell_type": "code",
   "execution_count": 13,
   "metadata": {},
   "outputs": [
    {
     "name": "stdout",
     "output_type": "stream",
     "text": [
      "Number of pdfs in depository: 732\n",
      "NAFAPE_2016_A_000_0111Z_SY.pdf\n",
      "NAFAPE_2016_A_000_0111Z_SY\n"
     ]
    }
   ],
   "source": [
    "## TAKE ALL PDF FROM A DIRECTORY\n",
    "pdf_list = glob.glob('NAP_FILES/*.pdf')\n",
    "\n",
    "## FUNTION TO STORE PDFS IN A LIST\n",
    "def find_pdfs(directory):\n",
    "    files=[]\n",
    "    for i in range(0, len(directory)):\n",
    "        f= directory[i].rsplit('\\\\', 1)\n",
    "        files.append(f[1])\n",
    "    return files\n",
    "\n",
    "print(\"Number of pdfs in depository: %s\" % len(find_pdfs(pdf_list)))\n",
    "\n",
    "print(find_pdfs(pdf_list)[0])\n",
    "print(find_pdfs(pdf_list)[0][0:26])"
   ]
  },
  {
   "cell_type": "code",
   "execution_count": null,
   "metadata": {},
   "outputs": [],
   "source": [
    "def pasre_pdf(alist):\n",
    "    core_relevant_df_collection={}\n",
    "    #head_relevant_df_collection={}\n",
    "    for i in range(0, len(alist)):\n",
    "        table = camelot.read_pdf('NAP_FILES/'+alist[i], flavor='stream')\n",
    "        table[0].to_csv('NAP_FILES_CSV/new/'+alist[i][0:26]+'.csv')\n",
    "        file = pd.read_csv('NAP_FILES_CSV/new/'+alist[i][0:26]+'.csv', encoding=\"utf-8\")\n",
    "        core_relevant_df = file[14:95].dropna(thresh=len(file[14:95]) - 16, axis=1)\n",
    "        #head_relevant_df = file[2:8].dropna(thresh=len(file[2:8]) - 2, axis=1)\n",
    "        core_relevant_df.columns=[\"index1\",\"nb_AT_1er_regle1\",\"nb_new_IP1\",\"nb_death1\",\"nb_lost_days1\",\"index2\",\"nb_AT_1er_regle2\",\"nb_new_IP2\",\"nb_death2\",\"nb_lost_days2\"]\n",
    "        #head_relevant_df.columns=[\"index1\",\"stats1\",\"index2\",\"stats2\"]\n",
    "        core_relevant_df_collection[alist[i][18:23]]=core_relevant_df\n",
    "        #head_relevant_df_collection[alist[i][18:23]]=head_relevant_df\n",
    "    return core_relevant_df_collection #, head_relevant_df_collectionf\n",
    "\n",
    "pasre_pdf(find_pdfs(pdf_list))    "
   ]
  },
  {
   "cell_type": "code",
   "execution_count": null,
   "metadata": {},
   "outputs": [],
   "source": [
    "tables2=camelot.read_pdf('NAP_FILES/'+find_pdfs(pdf_list)[2], flavor='stream')\n",
    "\n",
    "tables2[0].to_csv(find_pdfs(pdf_list)[2][0:26]+'.csv')\n",
    "test_file1 = pd.read_csv(find_pdfs(pdf_list)[2][0:26]+'.csv', encoding=\"utf-8\")\n",
    "core_relevant_df2 = test_file1[14:95]\n",
    "head_relevant_df2 = test_file1[2:8]\n",
    "core_relevant_df2 = core_relevant_df2.dropna(thresh=len(core_relevant_df2) - 16, axis=1)\n",
    "head_relevant_df2 = head_relevant_df2.dropna(thresh=len(head_relevant_df2) - 2, axis=1)\n",
    "#core_relevant_df2 = core_relevant_df2.drop([\"Unnamed: 1\",\"Unnamed: 5\",\"Unnamed: 8\",\"Unnamed: 12\"], axis=1)\n",
    "#head_relevant_df2 = head_relevant_df2.drop([\"Unnamed: 1\",\"Unnamed: 2\",\"Unnamed: 3\",\"NAF niveau 1 : Agriculture, sylviculture et pêche\",\"Unnamed: 5\",\"Unnamed: 8\",\"Unnamed: 9\",\"Unnamed: 10\",\"Unnamed: 11\",\"Unnamed: 12\"], axis=1)\n",
    "core_relevant_df2.columns=[\"index1\",\"nb_AT_1er_regle1\",\"nb_new_IP1\",\"nb_death1\",\"nb_lost_days1\",\"index2\",\"nb_AT_1er_regle2\",\"nb_new_IP2\",\"nb_death2\",\"nb_lost_days2\"]\n",
    "head_relevant_df2.columns=[\"index1\",\"stats1\",\"index2\",\"stats2\"]\n",
    "#core_relevant_df2\n",
    "#head_relevant_df2"
   ]
  }
 ],
 "metadata": {
  "kernelspec": {
   "display_name": "Python 3",
   "language": "python",
   "name": "python3"
  },
  "language_info": {
   "codemirror_mode": {
    "name": "ipython",
    "version": 3
   },
   "file_extension": ".py",
   "mimetype": "text/x-python",
   "name": "python",
   "nbconvert_exporter": "python",
   "pygments_lexer": "ipython3",
   "version": "3.6.5"
  }
 },
 "nbformat": 4,
 "nbformat_minor": 2
}
